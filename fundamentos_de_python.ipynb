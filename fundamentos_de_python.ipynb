{
  "nbformat": 4,
  "nbformat_minor": 0,
  "metadata": {
    "colab": {
      "provenance": [],
      "authorship_tag": "ABX9TyPWZpFGQxL8ePUxWVERhd/j",
      "include_colab_link": true
    },
    "kernelspec": {
      "name": "python3",
      "display_name": "Python 3"
    },
    "language_info": {
      "name": "python"
    }
  },
  "cells": [
    {
      "cell_type": "markdown",
      "metadata": {
        "id": "view-in-github",
        "colab_type": "text"
      },
      "source": [
        "<a href=\"https://colab.research.google.com/github/alejandrobernalchavez/progralll-2024-semi/blob/main/fundamentos_de_python.ipynb\" target=\"_parent\"><img src=\"https://colab.research.google.com/assets/colab-badge.svg\" alt=\"Open In Colab\"/></a>"
      ]
    },
    {
      "cell_type": "code",
      "execution_count": 7,
      "metadata": {
        "colab": {
          "base_uri": "https://localhost:8080/"
        },
        "id": "PZdZ-2dK4Ymf",
        "outputId": "1755930c-6eee-4127-a879-e786ec523456"
      },
      "outputs": [
        {
          "output_type": "stream",
          "name": "stdout",
          "text": [
            "hola mundo\n",
            "hola Alejandro Bernal , inicial: A n\n"
          ]
        }
      ],
      "source": [
        "print(\"hola mundo\")\n",
        "nombre = \"Alejandro Bernal\"\n",
        "\n",
        "print(\"hola\", nombre, \", inicial:\", nombre[0], nombre[5])"
      ]
    },
    {
      "cell_type": "markdown",
      "source": [
        "EJERCICIO, crear un programa en python que sume dos numeros"
      ],
      "metadata": {
        "id": "sz5prhco9fD4"
      }
    },
    {
      "cell_type": "code",
      "source": [
        "num1 = 5\n",
        "num2 = 9.5\n",
        "resp = num1 +num2\n",
        "print(\"la suma es: \", resp)"
      ],
      "metadata": {
        "colab": {
          "base_uri": "https://localhost:8080/"
        },
        "id": "x1X70VVC9ZzY",
        "outputId": "3feccae9-0467-4e97-b198-7a664595616d"
      },
      "execution_count": 8,
      "outputs": [
        {
          "output_type": "stream",
          "name": "stdout",
          "text": [
            "la suma es:  14.5\n"
          ]
        }
      ]
    },
    {
      "cell_type": "markdown",
      "source": [
        "EJERCICIO, crear un programa en python que sume dos numeros introducidos por el usuario"
      ],
      "metadata": {
        "id": "9WKDCjF1_XlU"
      }
    },
    {
      "cell_type": "code",
      "source": [
        "print(\"num 1\")\n",
        "num1 = float(input())\n",
        "\n",
        "print(\"num 2\")\n",
        "num2 = float(input())\n",
        "\n",
        "resp = num1 + num2\n",
        "print(\"la suma es: \", resp)"
      ],
      "metadata": {
        "colab": {
          "base_uri": "https://localhost:8080/"
        },
        "collapsed": true,
        "id": "AdpBVv-7_hZH",
        "outputId": "54cf2875-3e14-415c-e234-a9ce28ce8015"
      },
      "execution_count": 9,
      "outputs": [
        {
          "output_type": "stream",
          "name": "stdout",
          "text": [
            "num 1\n",
            "2\n",
            "num 2\n",
            "2\n",
            "la suma es:  4.0\n"
          ]
        }
      ]
    },
    {
      "cell_type": "code",
      "source": [
        "#TIPOS DE DATOS\n",
        "\n",
        "num1 = 5\n",
        "num2 = 5.9\n",
        "nombre = \"Alejandro Bernal\"\n",
        "print(nombre[0:9], nombre[:9], nombre[-1], nombre[9:len(nombre)])\n",
        "\n",
        "estado = True\n",
        "print(estado)\n",
        "\n",
        "print(type(nombre), type(num1), type(num2), type(estado) )"
      ],
      "metadata": {
        "colab": {
          "base_uri": "https://localhost:8080/"
        },
        "id": "MCTwa8krB_lc",
        "outputId": "d23486eb-18f3-4977-8bfa-bda4071ef73e"
      },
      "execution_count": 20,
      "outputs": [
        {
          "output_type": "stream",
          "name": "stdout",
          "text": [
            "Alejandro Alejandro l  Bernal\n",
            "True\n",
            "<class 'str'> <class 'int'> <class 'float'> <class 'bool'>\n"
          ]
        }
      ]
    },
    {
      "cell_type": "markdown",
      "source": [
        "determine si es par o impar"
      ],
      "metadata": {
        "id": "8ka8bQrfEtp4"
      }
    },
    {
      "cell_type": "code",
      "source": [
        "num = int(input(\"ingrese un numero: \"))\n",
        "if num % 2 ==0:\n",
        "  print(\"el mumero es par\", num)\n",
        "else:\n",
        "    print(\"el numero es impar\")"
      ],
      "metadata": {
        "colab": {
          "base_uri": "https://localhost:8080/"
        },
        "id": "o7rBN0_4EpxA",
        "outputId": "f9455a0b-7d6a-4bb8-b916-a1b92f2296a2"
      },
      "execution_count": 25,
      "outputs": [
        {
          "output_type": "stream",
          "name": "stdout",
          "text": [
            "ingrese un numero: 5\n",
            "el numero es impar\n"
          ]
        }
      ]
    }
  ]
}
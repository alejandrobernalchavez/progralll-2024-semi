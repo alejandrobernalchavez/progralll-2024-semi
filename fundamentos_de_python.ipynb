{
  "nbformat": 4,
  "nbformat_minor": 0,
  "metadata": {
    "colab": {
      "provenance": [],
      "authorship_tag": "ABX9TyNU6hI1Y1OEqsX4OouErw3J",
      "include_colab_link": true
    },
    "kernelspec": {
      "name": "python3",
      "display_name": "Python 3"
    },
    "language_info": {
      "name": "python"
    }
  },
  "cells": [
    {
      "cell_type": "markdown",
      "metadata": {
        "id": "view-in-github",
        "colab_type": "text"
      },
      "source": [
        "<a href=\"https://colab.research.google.com/github/alejandrobernalchavez/progralll-2024-semi/blob/main/fundamentos_de_python.ipynb\" target=\"_parent\"><img src=\"https://colab.research.google.com/assets/colab-badge.svg\" alt=\"Open In Colab\"/></a>"
      ]
    },
    {
      "cell_type": "code",
      "execution_count": null,
      "metadata": {
        "colab": {
          "base_uri": "https://localhost:8080/"
        },
        "id": "PZdZ-2dK4Ymf",
        "outputId": "1755930c-6eee-4127-a879-e786ec523456"
      },
      "outputs": [
        {
          "output_type": "stream",
          "name": "stdout",
          "text": [
            "hola mundo\n",
            "hola Alejandro Bernal , inicial: A n\n"
          ]
        }
      ],
      "source": [
        "print(\"hola mundo\")\n",
        "nombre = \"Alejandro Bernal\"\n",
        "\n",
        "print(\"hola\", nombre, \", inicial:\", nombre[0], nombre[5])"
      ]
    },
    {
      "cell_type": "markdown",
      "source": [
        "EJERCICIO, crear un programa en python que sume dos numeros"
      ],
      "metadata": {
        "id": "sz5prhco9fD4"
      }
    },
    {
      "cell_type": "code",
      "source": [
        "num1 = 5\n",
        "num2 = 9.5\n",
        "resp = num1 +num2\n",
        "print(\"la suma es: \", resp)"
      ],
      "metadata": {
        "colab": {
          "base_uri": "https://localhost:8080/"
        },
        "id": "x1X70VVC9ZzY",
        "outputId": "3feccae9-0467-4e97-b198-7a664595616d"
      },
      "execution_count": null,
      "outputs": [
        {
          "output_type": "stream",
          "name": "stdout",
          "text": [
            "la suma es:  14.5\n"
          ]
        }
      ]
    },
    {
      "cell_type": "markdown",
      "source": [
        "EJERCICIO, crear un programa en python que sume dos numeros introducidos por el usuario"
      ],
      "metadata": {
        "id": "9WKDCjF1_XlU"
      }
    },
    {
      "cell_type": "code",
      "source": [
        "print(\"num 1\")\n",
        "num1 = float(input())\n",
        "\n",
        "print(\"num 2\")\n",
        "num2 = float(input())\n",
        "\n",
        "resp = num1 + num2\n",
        "print(\"la suma es: \", resp)"
      ],
      "metadata": {
        "colab": {
          "base_uri": "https://localhost:8080/"
        },
        "collapsed": true,
        "id": "AdpBVv-7_hZH",
        "outputId": "54cf2875-3e14-415c-e234-a9ce28ce8015"
      },
      "execution_count": null,
      "outputs": [
        {
          "output_type": "stream",
          "name": "stdout",
          "text": [
            "num 1\n",
            "2\n",
            "num 2\n",
            "2\n",
            "la suma es:  4.0\n"
          ]
        }
      ]
    },
    {
      "cell_type": "code",
      "source": [
        "#TIPOS DE DATOS\n",
        "\n",
        "num1 = 5\n",
        "num2 = 5.9\n",
        "nombre = \"Alejandro Bernal\"\n",
        "print(nombre[0:9], nombre[:9], nombre[-1], nombre[9:len(nombre)])\n",
        "\n",
        "estado = True\n",
        "print(estado)\n",
        "\n",
        "print(type(nombre), type(num1), type(num2), type(estado) )"
      ],
      "metadata": {
        "colab": {
          "base_uri": "https://localhost:8080/"
        },
        "id": "MCTwa8krB_lc",
        "outputId": "d23486eb-18f3-4977-8bfa-bda4071ef73e"
      },
      "execution_count": null,
      "outputs": [
        {
          "output_type": "stream",
          "name": "stdout",
          "text": [
            "Alejandro Alejandro l  Bernal\n",
            "True\n",
            "<class 'str'> <class 'int'> <class 'float'> <class 'bool'>\n"
          ]
        }
      ]
    },
    {
      "cell_type": "markdown",
      "source": [
        "determine si es par o impar"
      ],
      "metadata": {
        "id": "8ka8bQrfEtp4"
      }
    },
    {
      "cell_type": "code",
      "source": [
        "num = int(input(\"ingrese un numero: \"))\n",
        "if num % 2 ==0:\n",
        "  print(\"el mumero es par\", num)\n",
        "else:\n",
        "    print(\"el numero es impar\")"
      ],
      "metadata": {
        "colab": {
          "base_uri": "https://localhost:8080/"
        },
        "id": "o7rBN0_4EpxA",
        "outputId": "f9455a0b-7d6a-4bb8-b916-a1b92f2296a2"
      },
      "execution_count": null,
      "outputs": [
        {
          "output_type": "stream",
          "name": "stdout",
          "text": [
            "ingrese un numero: 5\n",
            "el numero es impar\n"
          ]
        }
      ]
    },
    {
      "cell_type": "markdown",
      "source": [
        "EJERCICIO: Uso de las funciones de usuario, con la suma de dos numeros."
      ],
      "metadata": {
        "id": "vNO2i5KBmeMo"
      }
    },
    {
      "cell_type": "code",
      "source": [
        "def suma(num1, num2):\n",
        "  return num1 + num2"
      ],
      "metadata": {
        "id": "s9BUfHfDmfWq"
      },
      "execution_count": null,
      "outputs": []
    },
    {
      "cell_type": "code",
      "source": [
        "num1 = float(input(\"Num 1: \"))\n",
        "num2 = float(input(\"Num 2: \"))\n",
        "\n",
        "resp = suma(num1, num2)\n",
        "print(\"La suma es: \", resp)"
      ],
      "metadata": {
        "colab": {
          "base_uri": "https://localhost:8080/"
        },
        "id": "Wtqi1jPRmmvq",
        "outputId": "7f728081-cc3b-4a75-bfbe-b9514a63423b"
      },
      "execution_count": null,
      "outputs": [
        {
          "output_type": "stream",
          "name": "stdout",
          "text": [
            "Num 1: 2\n",
            "Num 2: 8\n",
            "La suma es:  10.0\n"
          ]
        }
      ]
    },
    {
      "cell_type": "markdown",
      "source": [
        "EJERCICIO: Coonvertir grados celsius a farenheit, usando funciones de usuario."
      ],
      "metadata": {
        "id": "ZLu6d6usm3N3"
      }
    },
    {
      "cell_type": "code",
      "source": [
        "def convertir_cf(c):\n",
        "  return c*1.8 + 32"
      ],
      "metadata": {
        "id": "uiOF2kVsm2hL"
      },
      "execution_count": null,
      "outputs": []
    },
    {
      "cell_type": "code",
      "source": [
        "c = float(input(\"Celsius: \"))\n",
        "print(\"F: \", convertir_cf(c))"
      ],
      "metadata": {
        "colab": {
          "base_uri": "https://localhost:8080/"
        },
        "id": "hctdP65qm_k1",
        "outputId": "b4484e18-cad8-441e-8a8b-b2540b8d5c06"
      },
      "execution_count": null,
      "outputs": [
        {
          "output_type": "stream",
          "name": "stdout",
          "text": [
            "Celsius: 33\n",
            "F:  91.4\n"
          ]
        }
      ]
    },
    {
      "cell_type": "markdown",
      "source": [
        "EJERCICIO: Determina si un numero es par o impar"
      ],
      "metadata": {
        "id": "uo-COLJSnI3U"
      }
    },
    {
      "cell_type": "code",
      "source": [
        "def parImpar(num):\n",
        "  if(num%2==0):\n",
        "    return \"par\"\n",
        "  return \"impar\""
      ],
      "metadata": {
        "id": "i1JX83cTnJ1J"
      },
      "execution_count": null,
      "outputs": []
    },
    {
      "cell_type": "code",
      "source": [
        "num = int(input(\"Num: \"))\n",
        "print(\"EL numero \", num, \" es: \", parImpar(num))"
      ],
      "metadata": {
        "colab": {
          "base_uri": "https://localhost:8080/"
        },
        "id": "Hm7jTR4jnNYX",
        "outputId": "804a7517-3365-48fc-ff65-c4a5c5641d8f"
      },
      "execution_count": null,
      "outputs": [
        {
          "output_type": "stream",
          "name": "stdout",
          "text": [
            "Num: 1\n",
            "EL numero  1  es:  impar\n"
          ]
        }
      ]
    },
    {
      "cell_type": "markdown",
      "source": [
        "EJERCICIO: Calcular el sueldo de un trabajador."
      ],
      "metadata": {
        "id": "vL4X4gk3nd2Q"
      }
    },
    {
      "cell_type": "code",
      "source": [
        "def sueldo(numHrs, valorXHrs):\n",
        "  sueldo = numHrs * valorXHrs * 30 # 10*1.5*30 = 450\n",
        "  if(numHrs>8):\n",
        "    sueldo = sueldo + (numHrs-8) * valorXHrs * 30 # 2*1.5*30 = 90\n",
        "  return sueldo"
      ],
      "metadata": {
        "id": "M3dXbxHMngwd"
      },
      "execution_count": null,
      "outputs": []
    },
    {
      "cell_type": "code",
      "source": [
        "numHrs = int(input(\"Horas: \"))\n",
        "valorXHrs = float(input(\"Valor: \"))\n",
        "\n",
        "print(\"Sueldo: \", sueldo(numHrs, valorXHrs))"
      ],
      "metadata": {
        "colab": {
          "base_uri": "https://localhost:8080/"
        },
        "id": "uhcmO0-JnkDw",
        "outputId": "15e433eb-3cba-4bcb-8da9-9feeaf68168a"
      },
      "execution_count": null,
      "outputs": [
        {
          "output_type": "stream",
          "name": "stdout",
          "text": [
            "Horas: 10\n",
            "Valor: 1.5\n",
            "Sueldo:  540.0\n"
          ]
        }
      ]
    },
    {
      "cell_type": "markdown",
      "source": [
        "## **TAREA (MIERCOLES):**\n",
        "\n",
        "1 - Convertir grados Farenheits a Celsius"
      ],
      "metadata": {
        "id": "YoCLEgrhnvs0"
      }
    },
    {
      "cell_type": "code",
      "source": [
        "def convertir_fc(f):\n",
        "  return (f - 32) / 1.8"
      ],
      "metadata": {
        "id": "xIHgcUVpviq7"
      },
      "execution_count": null,
      "outputs": []
    },
    {
      "cell_type": "code",
      "source": [
        "f = float (input(\"Fahrenheit: \"))\n",
        "print (\"c\", convertir_fc(f) )"
      ],
      "metadata": {
        "colab": {
          "base_uri": "https://localhost:8080/"
        },
        "id": "SjT47JIvwXEU",
        "outputId": "e7464891-90a8-47e3-d5b5-5905e46c6a73"
      },
      "execution_count": null,
      "outputs": [
        {
          "output_type": "stream",
          "name": "stdout",
          "text": [
            "Fahrenheit: 1\n",
            "c -17.22222222222222\n"
          ]
        }
      ]
    },
    {
      "cell_type": "markdown",
      "source": [
        "2 - Convertir grados [Celsius y Farenheit] a kelvin."
      ],
      "metadata": {
        "id": "cO1RCrTNyWF2"
      }
    },
    {
      "cell_type": "code",
      "source": [
        "def celsius_a_kelvin(celsius):\n",
        "\n",
        "    kelvin = celsius + 273.15\n",
        "    return kelvin\n",
        "\n",
        "def fahrenheit_a_kelvin(fahrenheit):\n",
        "\n",
        "    celsius = (fahrenheit - 32) * 5.0/9.0\n",
        "    kelvin = celsius_a_kelvin(celsius)\n",
        "    return kelvin\n",
        "\n",
        "def convertir_a_kelvin():\n",
        "    f\n",
        "    opcion = input(\"Elija la unidad de temperatura que desea convertir a Kelvin (C para Celsius, F para Fahrenheit): \").strip().upper()\n",
        "\n",
        "    if opcion == 'C':\n",
        "        temperatura_celsius = float(input(\"Ingrese la temperatura en grados Celsius: \"))\n",
        "        temperatura_kelvin = celsius_a_kelvin(temperatura_celsius)\n",
        "        print(f\"{temperatura_celsius}°C es igual a {temperatura_kelvin:.2f} K\")\n",
        "    elif opcion == 'F':\n",
        "        temperatura_fahrenheit = float(input(\"Ingrese la temperatura en grados Fahrenheit: \"))\n",
        "        temperatura_kelvin = fahrenheit_a_kelvin(temperatura_fahrenheit)\n",
        "        print(f\"{temperatura_fahrenheit}°F es igual a {temperatura_kelvin:.2f} K\")\n",
        "    else:\n",
        "        print(\"Opción no válida. Por favor, elija 'C' para Celsius o 'F' para Fahrenheit.\")\n",
        "\n",
        "# Llamada a la función para realizar la conversión\n",
        "convertir_a_kelvin()"
      ],
      "metadata": {
        "colab": {
          "base_uri": "https://localhost:8080/"
        },
        "id": "4dOBmq3Vyh3k",
        "outputId": "fe4d8eae-5402-4a55-8980-def456f87f82"
      },
      "execution_count": null,
      "outputs": [
        {
          "output_type": "stream",
          "name": "stdout",
          "text": [
            "Elija la unidad de temperatura que desea convertir a Kelvin (C para Celsius, F para Fahrenheit): f\n",
            "Ingrese la temperatura en grados Fahrenheit: 1\n",
            "1.0°F es igual a 255.93 K\n"
          ]
        }
      ]
    },
    {
      "cell_type": "markdown",
      "source": [
        "clase de el dia 24/07\n",
        "\n",
        "ejercicio elevar un numero al cuadrado"
      ],
      "metadata": {
        "id": "KiqClVfO59I3"
      }
    },
    {
      "cell_type": "code",
      "source": [
        "def elevarCuadrado(base,exponente=2):\n",
        "  print(exponente)\n",
        "  return base**exponente"
      ],
      "metadata": {
        "id": "-pLC3U5Y6DGm"
      },
      "execution_count": null,
      "outputs": []
    },
    {
      "cell_type": "code",
      "source": [
        "num = int(input(\"num: \"))\n",
        "print(\"cuadrado: \", elevarCuadrado(num, 3))"
      ],
      "metadata": {
        "id": "OVQuIG-V6WaO",
        "outputId": "690d0946-831e-4be7-d227-da629cb93f16",
        "colab": {
          "base_uri": "https://localhost:8080/"
        }
      },
      "execution_count": null,
      "outputs": [
        {
          "output_type": "stream",
          "name": "stdout",
          "text": [
            "num: 3\n",
            "cuadrado:  27\n"
          ]
        }
      ]
    },
    {
      "cell_type": "markdown",
      "source": [
        "USANDO LAS FUNCIONES LAMBDA"
      ],
      "metadata": {
        "id": "IjOsCV6P8fsm"
      }
    },
    {
      "cell_type": "code",
      "source": [
        "elevarCuadradoLambda = lambda base, exponente: base**exponente"
      ],
      "metadata": {
        "id": "7F0Srl_i8oVG"
      },
      "execution_count": null,
      "outputs": []
    },
    {
      "cell_type": "code",
      "source": [
        "valor = int(input(\"num: \"))\n",
        "print(\"cuadrado: \", elevarCuadradoLambda(valor, 2))"
      ],
      "metadata": {
        "id": "E1RL1sb79O1J",
        "outputId": "c9902233-2aaf-437b-8769-df713a8481f0",
        "colab": {
          "base_uri": "https://localhost:8080/"
        }
      },
      "execution_count": null,
      "outputs": [
        {
          "output_type": "stream",
          "name": "stdout",
          "text": [
            "num: 3\n",
            "cuadrado:  9\n"
          ]
        }
      ]
    },
    {
      "cell_type": "code",
      "source": [
        "serie =[5,4,3,2,6,7]\n",
        "resp = map(lambda x: x**2, serie)\n",
        "print(list(resp))\n",
        "\n",
        "resp2 = map(elevarCuadrado, serie)\n",
        "print(list(resp2))"
      ],
      "metadata": {
        "id": "mSI3X0XW_dt3",
        "outputId": "ca942cec-a3c4-47a1-e27c-9a0828d058a8",
        "colab": {
          "base_uri": "https://localhost:8080/",
          "height": 193
        }
      },
      "execution_count": null,
      "outputs": [
        {
          "output_type": "stream",
          "name": "stdout",
          "text": [
            "[25, 16, 9, 4, 36, 49]\n"
          ]
        },
        {
          "output_type": "error",
          "ename": "TypeError",
          "evalue": "elevarCuadrado() missing 1 required positional argument: 'exponente'",
          "traceback": [
            "\u001b[0;31m---------------------------------------------------------------------------\u001b[0m",
            "\u001b[0;31mTypeError\u001b[0m                                 Traceback (most recent call last)",
            "\u001b[0;32m<ipython-input-13-6ddc2ac4dbb7>\u001b[0m in \u001b[0;36m<cell line: 6>\u001b[0;34m()\u001b[0m\n\u001b[1;32m      4\u001b[0m \u001b[0;34m\u001b[0m\u001b[0m\n\u001b[1;32m      5\u001b[0m \u001b[0mresp2\u001b[0m \u001b[0;34m=\u001b[0m \u001b[0mmap\u001b[0m\u001b[0;34m(\u001b[0m\u001b[0melevarCuadrado\u001b[0m\u001b[0;34m,\u001b[0m \u001b[0mserie\u001b[0m\u001b[0;34m)\u001b[0m\u001b[0;34m\u001b[0m\u001b[0;34m\u001b[0m\u001b[0m\n\u001b[0;32m----> 6\u001b[0;31m \u001b[0mprint\u001b[0m\u001b[0;34m(\u001b[0m\u001b[0mlist\u001b[0m\u001b[0;34m(\u001b[0m\u001b[0mresp2\u001b[0m\u001b[0;34m)\u001b[0m\u001b[0;34m)\u001b[0m\u001b[0;34m\u001b[0m\u001b[0;34m\u001b[0m\u001b[0m\n\u001b[0m",
            "\u001b[0;31mTypeError\u001b[0m: elevarCuadrado() missing 1 required positional argument: 'exponente'"
          ]
        }
      ]
    },
    {
      "cell_type": "markdown",
      "source": [
        "ejercicio obtener la rais cuadrada de una serie de numeros fijos"
      ],
      "metadata": {
        "id": "ExiN5vweCxWV"
      }
    },
    {
      "cell_type": "code",
      "source": [
        "serie = [2,3,4,5]\n",
        "resp = map(lambda x: x**0.5, serie)\n",
        "print(list(resp))"
      ],
      "metadata": {
        "id": "wrLPwkHOC8-S",
        "outputId": "0f3baf1b-6cb3-4318-a106-54951b108492",
        "colab": {
          "base_uri": "https://localhost:8080/"
        }
      },
      "execution_count": null,
      "outputs": [
        {
          "output_type": "stream",
          "name": "stdout",
          "text": [
            "[1.4142135623730951, 1.7320508075688772, 2.0, 2.23606797749979]\n"
          ]
        }
      ]
    },
    {
      "cell_type": "markdown",
      "source": [
        "Ejercicios prácticos en Python\n",
        "\n",
        "\n",
        "Calcular sobre el sueldo las deducciones por ley ISSS (3%), AFP(6.25%), ISR(Según tabla) e imprima el total deducciones y\n",
        "sueldo neto."
      ],
      "metadata": {
        "id": "NcLL2EKiqdrg"
      }
    },
    {
      "cell_type": "code",
      "source": [
        "def calcular_isr(ingreso_bruto):\n",
        "    \"\"\"\n",
        "    Calcula el ISR según una tabla simplificada.\n",
        "    \"\"\"\n",
        "    if ingreso_bruto <= 500:\n",
        "        return 0\n",
        "    elif ingreso_bruto <= 1000:\n",
        "        return ingreso_bruto * 0.10\n",
        "    elif ingreso_bruto <= 2000:\n",
        "        return ingreso_bruto * 0.20\n",
        "    else:\n",
        "\n",
        "        return ingreso_bruto * 0.30\n",
        "\n",
        "def calcular_deducciones(ingreso_bruto):\n",
        "    \"\"\"\n",
        "    Calcula las deducciones de ISSS y AFP.\n",
        "    \"\"\"\n",
        "    isss = ingreso_bruto * 0.03\n",
        "    afp = ingreso_bruto * 0.0625\n",
        "    isr = calcular_isr(ingreso_bruto)\n",
        "    total_deducciones = isss + afp + isr\n",
        "    return isss, afp, isr, total_deducciones\n",
        "\n",
        "def calcular_sueldo_neto(ingreso_bruto):\n",
        "    \"\"\"\n",
        "    Calcula el sueldo neto después de deducciones.\n",
        "    \"\"\"\n",
        "    isss, afp, isr, total_deducciones = calcular_deducciones(ingreso_bruto)\n",
        "    sueldo_neto = ingreso_bruto - total_deducciones\n",
        "    return sueldo_neto\n",
        "\n",
        "def main():\n",
        "    ingreso_bruto = float(input(\"Ingrese el sueldo bruto: \"))\n",
        "\n",
        "    isss, afp, isr, total_deducciones = calcular_deducciones(ingreso_bruto)\n",
        "    sueldo_neto = calcular_sueldo_neto(ingreso_bruto)\n",
        "\n",
        "    print(f\"\\nDeducciones:\")\n",
        "    print(f\"  ISSS (3%): ${isss:.2f}\")\n",
        "    print(f\"  AFP (6.25%): ${afp:.2f}\")\n",
        "    print(f\"  ISR: ${isr:.2f}\")\n",
        "    print(f\"  Total Deducciones: ${total_deducciones:.2f}\")\n",
        "    print(f\"\\nSueldo Neto: ${sueldo_neto:.2f}\")\n",
        "\n",
        "if __name__ == \"__main__\":\n",
        "    main()"
      ],
      "metadata": {
        "colab": {
          "base_uri": "https://localhost:8080/"
        },
        "id": "jyPESnsHqdH4",
        "outputId": "bc7c58e0-ca3f-44eb-f282-420ee85fd907"
      },
      "execution_count": 1,
      "outputs": [
        {
          "output_type": "stream",
          "name": "stdout",
          "text": [
            "Ingrese el sueldo bruto: 2000\n",
            "\n",
            "Deducciones:\n",
            "  ISSS (3%): $60.00\n",
            "  AFP (6.25%): $125.00\n",
            "  ISR: $400.00\n",
            "  Total Deducciones: $585.00\n",
            "\n",
            "Sueldo Neto: $1415.00\n"
          ]
        }
      ]
    },
    {
      "cell_type": "markdown",
      "source": [
        "Ejercicios prácticos en Python\n",
        "\n",
        "\n",
        "Calcular el valor a pagar según el número de metros consumidos de agua potable (Ver tabla en la siguiente diapositiva).\n"
      ],
      "metadata": {
        "id": "b95M0j0m7W98"
      }
    },
    {
      "cell_type": "code",
      "source": [
        "def calcular_valor_pagar(metros_consumidos):\n",
        "    \"\"\"\n",
        "    Calcula el valor a pagar según el número de metros cúbicos consumidos.\n",
        "    \"\"\"\n",
        "    if metros_consumidos <= 18:\n",
        "        # Tarifa fija para el rango de 1 a 18 metros cúbicos\n",
        "        valor = 6.00\n",
        "    elif metros_consumidos <= 28:\n",
        "        # Tarifa para el rango de 19 a 28 metros cúbicos\n",
        "        valor = 6.00 + (metros_consumidos - 18) * 0.45\n",
        "    else:\n",
        "        # Tarifa para el rango mayor a 28 metros cúbicos\n",
        "        valor = 6.00 + (28 - 18) * 0.45 + (metros_consumidos - 28) * 0.65\n",
        "\n",
        "    return valor\n",
        "\n",
        "def main():\n",
        "    try:\n",
        "        metros_consumidos = float(input(\"Ingrese el número de metros cúbicos consumidos: \"))\n",
        "\n",
        "        if metros_consumidos < 0:\n",
        "            print(\"El número de metros cúbicos no puede ser negativo.\")\n",
        "            return\n",
        "\n",
        "        total_a_pagar = calcular_valor_pagar(metros_consumidos)\n",
        "\n",
        "        print(f\"\\nEl valor a pagar por {metros_consumidos:.2f} metros cúbicos es: ${total_a_pagar:.2f}\")\n",
        "\n",
        "    except ValueError:\n",
        "        print(\"Por favor, ingrese un número válido.\")\n",
        "\n",
        "if __name__ == \"__main__\":\n",
        "    main()"
      ],
      "metadata": {
        "id": "U9hbhNI77Wcf",
        "outputId": "d6d66313-d273-4788-9954-13fd30c37927",
        "colab": {
          "base_uri": "https://localhost:8080/"
        }
      },
      "execution_count": 7,
      "outputs": [
        {
          "output_type": "stream",
          "name": "stdout",
          "text": [
            "Ingrese el número de metros cúbicos consumidos: 21\n",
            "\n",
            "El valor a pagar por 21.00 metros cúbicos es: $7.35\n"
          ]
        }
      ]
    }
  ]
}
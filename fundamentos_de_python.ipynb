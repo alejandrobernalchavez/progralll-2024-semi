{
  "nbformat": 4,
  "nbformat_minor": 0,
  "metadata": {
    "colab": {
      "provenance": [],
      "authorship_tag": "ABX9TyMaLEeEzm33LowR91BzoxcO",
      "include_colab_link": true
    },
    "kernelspec": {
      "name": "python3",
      "display_name": "Python 3"
    },
    "language_info": {
      "name": "python"
    }
  },
  "cells": [
    {
      "cell_type": "markdown",
      "metadata": {
        "id": "view-in-github",
        "colab_type": "text"
      },
      "source": [
        "<a href=\"https://colab.research.google.com/github/alejandrobernalchavez/progralll-2024-semi/blob/main/fundamentos_de_python.ipynb\" target=\"_parent\"><img src=\"https://colab.research.google.com/assets/colab-badge.svg\" alt=\"Open In Colab\"/></a>"
      ]
    },
    {
      "cell_type": "code",
      "execution_count": null,
      "metadata": {
        "colab": {
          "base_uri": "https://localhost:8080/"
        },
        "id": "PZdZ-2dK4Ymf",
        "outputId": "1755930c-6eee-4127-a879-e786ec523456"
      },
      "outputs": [
        {
          "output_type": "stream",
          "name": "stdout",
          "text": [
            "hola mundo\n",
            "hola Alejandro Bernal , inicial: A n\n"
          ]
        }
      ],
      "source": [
        "print(\"hola mundo\")\n",
        "nombre = \"Alejandro Bernal\"\n",
        "\n",
        "print(\"hola\", nombre, \", inicial:\", nombre[0], nombre[5])"
      ]
    },
    {
      "cell_type": "markdown",
      "source": [
        "EJERCICIO, crear un programa en python que sume dos numeros"
      ],
      "metadata": {
        "id": "sz5prhco9fD4"
      }
    },
    {
      "cell_type": "code",
      "source": [
        "num1 = 5\n",
        "num2 = 9.5\n",
        "resp = num1 +num2\n",
        "print(\"la suma es: \", resp)"
      ],
      "metadata": {
        "colab": {
          "base_uri": "https://localhost:8080/"
        },
        "id": "x1X70VVC9ZzY",
        "outputId": "3feccae9-0467-4e97-b198-7a664595616d"
      },
      "execution_count": null,
      "outputs": [
        {
          "output_type": "stream",
          "name": "stdout",
          "text": [
            "la suma es:  14.5\n"
          ]
        }
      ]
    },
    {
      "cell_type": "markdown",
      "source": [
        "EJERCICIO, crear un programa en python que sume dos numeros introducidos por el usuario"
      ],
      "metadata": {
        "id": "9WKDCjF1_XlU"
      }
    },
    {
      "cell_type": "code",
      "source": [
        "print(\"num 1\")\n",
        "num1 = float(input())\n",
        "\n",
        "print(\"num 2\")\n",
        "num2 = float(input())\n",
        "\n",
        "resp = num1 + num2\n",
        "print(\"la suma es: \", resp)"
      ],
      "metadata": {
        "colab": {
          "base_uri": "https://localhost:8080/"
        },
        "collapsed": true,
        "id": "AdpBVv-7_hZH",
        "outputId": "54cf2875-3e14-415c-e234-a9ce28ce8015"
      },
      "execution_count": null,
      "outputs": [
        {
          "output_type": "stream",
          "name": "stdout",
          "text": [
            "num 1\n",
            "2\n",
            "num 2\n",
            "2\n",
            "la suma es:  4.0\n"
          ]
        }
      ]
    },
    {
      "cell_type": "code",
      "source": [
        "#TIPOS DE DATOS\n",
        "\n",
        "num1 = 5\n",
        "num2 = 5.9\n",
        "nombre = \"Alejandro Bernal\"\n",
        "print(nombre[0:9], nombre[:9], nombre[-1], nombre[9:len(nombre)])\n",
        "\n",
        "estado = True\n",
        "print(estado)\n",
        "\n",
        "print(type(nombre), type(num1), type(num2), type(estado) )"
      ],
      "metadata": {
        "colab": {
          "base_uri": "https://localhost:8080/"
        },
        "id": "MCTwa8krB_lc",
        "outputId": "d23486eb-18f3-4977-8bfa-bda4071ef73e"
      },
      "execution_count": null,
      "outputs": [
        {
          "output_type": "stream",
          "name": "stdout",
          "text": [
            "Alejandro Alejandro l  Bernal\n",
            "True\n",
            "<class 'str'> <class 'int'> <class 'float'> <class 'bool'>\n"
          ]
        }
      ]
    },
    {
      "cell_type": "markdown",
      "source": [
        "determine si es par o impar"
      ],
      "metadata": {
        "id": "8ka8bQrfEtp4"
      }
    },
    {
      "cell_type": "code",
      "source": [
        "num = int(input(\"ingrese un numero: \"))\n",
        "if num % 2 ==0:\n",
        "  print(\"el mumero es par\", num)\n",
        "else:\n",
        "    print(\"el numero es impar\")"
      ],
      "metadata": {
        "colab": {
          "base_uri": "https://localhost:8080/"
        },
        "id": "o7rBN0_4EpxA",
        "outputId": "f9455a0b-7d6a-4bb8-b916-a1b92f2296a2"
      },
      "execution_count": null,
      "outputs": [
        {
          "output_type": "stream",
          "name": "stdout",
          "text": [
            "ingrese un numero: 5\n",
            "el numero es impar\n"
          ]
        }
      ]
    },
    {
      "cell_type": "markdown",
      "source": [
        "EJERCICIO: Uso de las funciones de usuario, con la suma de dos numeros."
      ],
      "metadata": {
        "id": "vNO2i5KBmeMo"
      }
    },
    {
      "cell_type": "code",
      "source": [
        "def suma(num1, num2):\n",
        "  return num1 + num2"
      ],
      "metadata": {
        "id": "s9BUfHfDmfWq"
      },
      "execution_count": 2,
      "outputs": []
    },
    {
      "cell_type": "code",
      "source": [
        "num1 = float(input(\"Num 1: \"))\n",
        "num2 = float(input(\"Num 2: \"))\n",
        "\n",
        "resp = suma(num1, num2)\n",
        "print(\"La suma es: \", resp)"
      ],
      "metadata": {
        "colab": {
          "base_uri": "https://localhost:8080/"
        },
        "id": "Wtqi1jPRmmvq",
        "outputId": "7f728081-cc3b-4a75-bfbe-b9514a63423b"
      },
      "execution_count": 3,
      "outputs": [
        {
          "output_type": "stream",
          "name": "stdout",
          "text": [
            "Num 1: 2\n",
            "Num 2: 8\n",
            "La suma es:  10.0\n"
          ]
        }
      ]
    },
    {
      "cell_type": "markdown",
      "source": [
        "EJERCICIO: Coonvertir grados celsius a farenheit, usando funciones de usuario."
      ],
      "metadata": {
        "id": "ZLu6d6usm3N3"
      }
    },
    {
      "cell_type": "code",
      "source": [
        "def convertir_cf(c):\n",
        "  return c*1.8 + 32"
      ],
      "metadata": {
        "id": "uiOF2kVsm2hL"
      },
      "execution_count": 4,
      "outputs": []
    },
    {
      "cell_type": "code",
      "source": [
        "c = float(input(\"Celsius: \"))\n",
        "print(\"F: \", convertir_cf(c))"
      ],
      "metadata": {
        "colab": {
          "base_uri": "https://localhost:8080/"
        },
        "id": "hctdP65qm_k1",
        "outputId": "b4484e18-cad8-441e-8a8b-b2540b8d5c06"
      },
      "execution_count": 5,
      "outputs": [
        {
          "output_type": "stream",
          "name": "stdout",
          "text": [
            "Celsius: 33\n",
            "F:  91.4\n"
          ]
        }
      ]
    },
    {
      "cell_type": "markdown",
      "source": [
        "EJERCICIO: Determina si un numero es par o impar"
      ],
      "metadata": {
        "id": "uo-COLJSnI3U"
      }
    },
    {
      "cell_type": "code",
      "source": [
        "def parImpar(num):\n",
        "  if(num%2==0):\n",
        "    return \"par\"\n",
        "  return \"impar\""
      ],
      "metadata": {
        "id": "i1JX83cTnJ1J"
      },
      "execution_count": 6,
      "outputs": []
    },
    {
      "cell_type": "code",
      "source": [
        "num = int(input(\"Num: \"))\n",
        "print(\"EL numero \", num, \" es: \", parImpar(num))"
      ],
      "metadata": {
        "colab": {
          "base_uri": "https://localhost:8080/"
        },
        "id": "Hm7jTR4jnNYX",
        "outputId": "804a7517-3365-48fc-ff65-c4a5c5641d8f"
      },
      "execution_count": 7,
      "outputs": [
        {
          "output_type": "stream",
          "name": "stdout",
          "text": [
            "Num: 1\n",
            "EL numero  1  es:  impar\n"
          ]
        }
      ]
    },
    {
      "cell_type": "markdown",
      "source": [
        "EJERCICIO: Calcular el sueldo de un trabajador."
      ],
      "metadata": {
        "id": "vL4X4gk3nd2Q"
      }
    },
    {
      "cell_type": "code",
      "source": [
        "def sueldo(numHrs, valorXHrs):\n",
        "  sueldo = numHrs * valorXHrs * 30 # 10*1.5*30 = 450\n",
        "  if(numHrs>8):\n",
        "    sueldo = sueldo + (numHrs-8) * valorXHrs * 30 # 2*1.5*30 = 90\n",
        "  return sueldo"
      ],
      "metadata": {
        "id": "M3dXbxHMngwd"
      },
      "execution_count": 8,
      "outputs": []
    },
    {
      "cell_type": "code",
      "source": [
        "numHrs = int(input(\"Horas: \"))\n",
        "valorXHrs = float(input(\"Valor: \"))\n",
        "\n",
        "print(\"Sueldo: \", sueldo(numHrs, valorXHrs))"
      ],
      "metadata": {
        "colab": {
          "base_uri": "https://localhost:8080/"
        },
        "id": "uhcmO0-JnkDw",
        "outputId": "15e433eb-3cba-4bcb-8da9-9feeaf68168a"
      },
      "execution_count": 9,
      "outputs": [
        {
          "output_type": "stream",
          "name": "stdout",
          "text": [
            "Horas: 10\n",
            "Valor: 1.5\n",
            "Sueldo:  540.0\n"
          ]
        }
      ]
    },
    {
      "cell_type": "markdown",
      "source": [
        "TAREA (MIERCOLES):\n",
        "\n",
        "Convertir grados Farenheits a Celsius"
      ],
      "metadata": {
        "id": "YoCLEgrhnvs0"
      }
    },
    {
      "cell_type": "code",
      "source": [
        "def convertir_fc(f):\n",
        "  return (f - 32) / 1.8"
      ],
      "metadata": {
        "id": "xIHgcUVpviq7"
      },
      "execution_count": 42,
      "outputs": []
    },
    {
      "cell_type": "code",
      "source": [
        "f = float (input(\"Fahrenheit: \"))\n",
        "print (\"c\", convertir_fc(f) )"
      ],
      "metadata": {
        "colab": {
          "base_uri": "https://localhost:8080/"
        },
        "id": "SjT47JIvwXEU",
        "outputId": "dcd1967a-c6b5-481e-a3b1-153c37101ca5"
      },
      "execution_count": 44,
      "outputs": [
        {
          "output_type": "stream",
          "name": "stdout",
          "text": [
            "Fahrenheit: 212\n",
            "c 100.0\n"
          ]
        }
      ]
    },
    {
      "cell_type": "markdown",
      "source": [
        "TAREA (MIERCOLES):\n",
        "Convertir grados [Celsius y Farenheit] a kelvin."
      ],
      "metadata": {
        "id": "cO1RCrTNyWF2"
      }
    },
    {
      "cell_type": "code",
      "source": [
        "def celsius_a_kelvin(celsius):\n",
        "\n",
        "    kelvin = celsius + 273.15\n",
        "    return kelvin\n",
        "\n",
        "def fahrenheit_a_kelvin(fahrenheit):\n",
        "\n",
        "    celsius = (fahrenheit - 32) * 5.0/9.0\n",
        "    kelvin = celsius_a_kelvin(celsius)\n",
        "    return kelvin\n",
        "\n",
        "def convertir_a_kelvin():\n",
        "    f\n",
        "    opcion = input(\"Elija la unidad de temperatura que desea convertir a Kelvin (C para Celsius, F para Fahrenheit): \").strip().upper()\n",
        "\n",
        "    if opcion == 'C':\n",
        "        temperatura_celsius = float(input(\"Ingrese la temperatura en grados Celsius: \"))\n",
        "        temperatura_kelvin = celsius_a_kelvin(temperatura_celsius)\n",
        "        print(f\"{temperatura_celsius}°C es igual a {temperatura_kelvin:.2f} K\")\n",
        "    elif opcion == 'F':\n",
        "        temperatura_fahrenheit = float(input(\"Ingrese la temperatura en grados Fahrenheit: \"))\n",
        "        temperatura_kelvin = fahrenheit_a_kelvin(temperatura_fahrenheit)\n",
        "        print(f\"{temperatura_fahrenheit}°F es igual a {temperatura_kelvin:.2f} K\")\n",
        "    else:\n",
        "        print(\"Opción no válida. Por favor, elija 'C' para Celsius o 'F' para Fahrenheit.\")\n",
        "\n",
        "# Llamada a la función para realizar la conversión\n",
        "convertir_a_kelvin()"
      ],
      "metadata": {
        "colab": {
          "base_uri": "https://localhost:8080/"
        },
        "id": "4dOBmq3Vyh3k",
        "outputId": "b4932eb3-54a4-49db-cc97-ef894e02b852"
      },
      "execution_count": 50,
      "outputs": [
        {
          "output_type": "stream",
          "name": "stdout",
          "text": [
            "Elija la unidad de temperatura que desea convertir a Kelvin (C para Celsius, F para Fahrenheit): f\n",
            "Ingrese la temperatura en grados Fahrenheit: 1\n",
            "1.0°F es igual a 255.93 K\n"
          ]
        }
      ]
    }
  ]
}